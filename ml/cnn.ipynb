{
  "cells": [
    {
      "cell_type": "code",
      "execution_count": null,
      "metadata": {
        "id": "-GCwf8d9oClR"
      },
      "outputs": [],
      "source": [
        "import tensorflow as tf\n",
        "from tensorflow.keras import layers, models\n",
        "from tensorflow.keras.preprocessing.image import ImageDataGenerator\n",
        "from tensorflow.keras.preprocessing.image import img_to_array, load_img\n",
        "from tensorflow.keras.callbacks import ModelCheckpoint\n",
        "from sklearn.model_selection import train_test_split\n",
        "import os\n",
        "import cv2\n",
        "import numpy as np\n",
        "import pandas as pd\n",
        "import matplotlib.pyplot as plt\n",
        "from PIL import Image\n"
      ]
    },
    {
      "cell_type": "markdown",
      "metadata": {},
      "source": [
        "MODEL DESIGN"
      ]
    },
    {
      "cell_type": "code",
      "execution_count": null,
      "metadata": {
        "colab": {
          "base_uri": "https://localhost:8080/"
        },
        "id": "gP1rxKX18oNd",
        "outputId": "9931dc4e-9e7c-41b7-fa68-4d97b8522a04"
      },
      "outputs": [
        {
          "name": "stdout",
          "output_type": "stream",
          "text": [
            "Model: \"sequential_21\"\n",
            "_________________________________________________________________\n",
            " Layer (type)                Output Shape              Param #   \n",
            "=================================================================\n",
            " conv2d_60 (Conv2D)          (None, 298, 298, 64)      640       \n",
            "                                                                 \n",
            " max_pooling2d_55 (MaxPooli  (None, 74, 74, 64)        0         \n",
            " ng2D)                                                           \n",
            "                                                                 \n",
            " conv2d_61 (Conv2D)          (None, 72, 72, 64)        36928     \n",
            "                                                                 \n",
            " max_pooling2d_56 (MaxPooli  (None, 36, 36, 64)        0         \n",
            " ng2D)                                                           \n",
            "                                                                 \n",
            " conv2d_62 (Conv2D)          (None, 34, 34, 32)        18464     \n",
            "                                                                 \n",
            " max_pooling2d_57 (MaxPooli  (None, 17, 17, 32)        0         \n",
            " ng2D)                                                           \n",
            "                                                                 \n",
            " flatten_15 (Flatten)        (None, 9248)              0         \n",
            "                                                                 \n",
            " dense_46 (Dense)            (None, 512)               4735488   \n",
            "                                                                 \n",
            " dropout_17 (Dropout)        (None, 512)               0         \n",
            "                                                                 \n",
            " dense_47 (Dense)            (None, 256)               131328    \n",
            "                                                                 \n",
            " dropout_18 (Dropout)        (None, 256)               0         \n",
            "                                                                 \n",
            " dense_48 (Dense)            (None, 16)                4112      \n",
            "                                                                 \n",
            " dense_49 (Dense)            (None, 2)                 34        \n",
            "                                                                 \n",
            "=================================================================\n",
            "Total params: 4926994 (18.79 MB)\n",
            "Trainable params: 4926994 (18.79 MB)\n",
            "Non-trainable params: 0 (0.00 Byte)\n",
            "_________________________________________________________________\n"
          ]
        }
      ],
      "source": [
        "model = models.Sequential()\n",
        "model.add(layers.Conv2D(64, (3, 3), activation='relu', input_shape=(300, 300, 1)))\n",
        "model.add(layers.MaxPooling2D((4, 4)))\n",
        "model.add(layers.Conv2D(64, (3, 3), activation='relu'))\n",
        "model.add(layers.MaxPooling2D((2, 2)))\n",
        "model.add(layers.Conv2D(32, (3, 3), activation='relu'))\n",
        "model.add(layers.MaxPooling2D((2, 2)))\n",
        "\n",
        "model.add(layers.Flatten())\n",
        "\n",
        "model.add(layers.Dense(512, activation='relu'))\n",
        "model.add(layers.Dropout(0.2))\n",
        "model.add(layers.Dense(256, activation='relu'))\n",
        "model.add(layers.Dropout(0.5))\n",
        "model.add(layers.Dense(16, activation='relu'))\n",
        "\n",
        "model.add(layers.Dense(2, activation='softmax'))\n",
        "\n",
        "\n",
        "model.compile(optimizer='adam',\n",
        "              loss='sparse_categorical_crossentropy',\n",
        "              metrics=['accuracy'])\n",
        "\n",
        "#model summary\n",
        "model.summary()"
      ]
    },
    {
      "cell_type": "code",
      "execution_count": null,
      "metadata": {
        "id": "czSox2-a7E02"
      },
      "outputs": [],
      "source": [
        "def resize_image(image_path):\n",
        "    img = load_img(image_path, target_size=(300, 300), color_mode='grayscale')\n",
        "    img_array = img_to_array(img)\n",
        "    img_array /= 255.0  # Normalize pixel values to between 0 and 1\n",
        "    return img_array\n",
        "\n",
        "\n",
        "def resizeimg(folderpath: str,imgname: str):\n",
        "  img = Image.open(folderpath+imgname)\n",
        "  img.thumbnail((300,300))\n",
        "  img.save(folderpath[:-1]+'_/'+imgname)\n",
        "  m,n = img.size\n",
        "  target_size = (300, 300)\n",
        "  if (m!=300)or(n!=300):\n",
        "    if m>n:\n",
        "      target_size = (m,m)\n",
        "    else:\n",
        "      target_size = (n,n)\n",
        "  else:\n",
        "    return;\n",
        "  image = cv2.imread(folderpath[:-1]+'_/'+imgname)\n",
        "  vertical_padding = (target_size[0] - image.shape[0]) // 2\n",
        "  horizontal_padding = (target_size[1] - image.shape[1]) // 2\n",
        "\n",
        "  padded_image = cv2.copyMakeBorder(image, vertical_padding, vertical_padding, horizontal_padding, horizontal_padding, cv2.BORDER_CONSTANT)\n",
        "  cv2.imwrite(folderpath[:-1]+'_/'+imgname,padded_image)\n"
      ]
    },
    {
      "cell_type": "code",
      "execution_count": null,
      "metadata": {
        "colab": {
          "base_uri": "https://localhost:8080/"
        },
        "id": "rNGWjAGr8xeB",
        "outputId": "0f4fd1ee-e6ad-46d9-b744-ccd2062d00f9"
      },
      "outputs": [],
      "source": [
        "metadatapath = \"updated.csv\"\n",
        "metadata = pd.read_csv(metadatapath)\n",
        "cancerpath = \"Brain Tumor_/\"\n",
        "normalpath = \"Healthy_/\"\n",
        "count=0\n",
        "paths=[]\n",
        "labels=[]\n",
        "\n",
        "metadata.drop(metadata.columns[[0]], axis=1, inplace=True)\n",
        "\n",
        "for i in range(0,4519):\n",
        "  if (metadata.iloc[i]['class']=='cancer' ):\n",
        "    paths.append(cancerpath+metadata.iloc[i]['Filename'])\n",
        "    labels.append('cancer')\n",
        "  else:\n",
        "    paths.append(normalpath+metadata.iloc[i]['Filename'])\n",
        "    labels.append('normal')\n",
        "df = pd.DataFrame({\n",
        "    'path':paths,\n",
        "    'label':labels\n",
        "})\n",
        "print(df)"
      ]
    },
    {
      "cell_type": "markdown",
      "metadata": {},
      "source": [
        "TEST TRAIN VAL SPLIT"
      ]
    },
    {
      "cell_type": "code",
      "execution_count": null,
      "metadata": {
        "colab": {
          "base_uri": "https://localhost:8080/"
        },
        "id": "5s4lETrwDYlY",
        "outputId": "62a69e0c-ed84-4ef1-b55c-ab2d1fc3dddd"
      },
      "outputs": [
        {
          "name": "stdout",
          "output_type": "stream",
          "text": [
            "Found 2846 validated image filenames belonging to 2 classes.\n",
            "Found 1356 validated image filenames belonging to 2 classes.\n",
            "Found 317 validated image filenames belonging to 2 classes.\n"
          ]
        }
      ],
      "source": [
        "train_df, test_df = train_test_split(df, test_size=0.3, random_state=42)\n",
        "train_df, val_df = train_test_split(train_df, test_size=0.1, random_state=42)\n",
        "\n",
        "train_datagen = ImageDataGenerator(rescale=1./255)\n",
        "test_datagen = ImageDataGenerator(rescale=1./255)\n",
        "val_datagen = ImageDataGenerator(rescale=1./255)\n",
        "\n",
        "train_generator = train_datagen.flow_from_dataframe(\n",
        "    train_df,\n",
        "    x_col='path',\n",
        "    y_col='label',\n",
        "    target_size=(300, 300),\n",
        "    batch_size=4,\n",
        "    class_mode='binary',  # or 'binary' for binary classification\n",
        "    color_mode='grayscale',  # or 'rgb' for RGB images\n",
        "    shuffle=True\n",
        ")\n",
        "\n",
        "test_generator = test_datagen.flow_from_dataframe(\n",
        "    test_df,\n",
        "    x_col='path',\n",
        "    y_col='label',\n",
        "    target_size=(300, 300),\n",
        "    batch_size=1,\n",
        "    class_mode='binary',\n",
        "    color_mode='grayscale',\n",
        "    shuffle=False\n",
        ")\n",
        "val_generator = val_datagen.flow_from_dataframe(\n",
        "    val_df,\n",
        "    x_col='path',\n",
        "    y_col='label',\n",
        "    target_size=(300, 300),\n",
        "    batch_size=1,\n",
        "    class_mode='binary',\n",
        "    color_mode='grayscale',\n",
        "    shuffle=False\n",
        ")\n",
        "\n"
      ]
    },
    {
      "cell_type": "markdown",
      "metadata": {},
      "source": [
        "TRAINING THE MODEL"
      ]
    },
    {
      "cell_type": "code",
      "execution_count": null,
      "metadata": {
        "id": "8-v0hyASEmAA"
      },
      "outputs": [],
      "source": [
        "#checkpoint = ModelCheckpoint('/content/drive/MyDrive/lund/model10.h5', save_best_only=True)\n",
        "\n",
        "model.fit(\n",
        "    train_generator,\n",
        "    epochs=1,\n",
        "    validation_data=val_generator\n",
        "    #callbacks=[checkpoint]\n",
        ")\n",
        "\n",
        "# Visualize training and validation loss\n",
        "plt.figure(figsize=(12, 6))\n",
        "plt.plot(history.history['loss'], label='Training Loss')\n",
        "plt.plot(history.history['val_loss'], label='Validation Loss')\n",
        "plt.title('Training and Validation Loss')\n",
        "plt.xlabel('Epoch')\n",
        "plt.ylabel('Loss')\n",
        "plt.legend()\n",
        "plt.show()\n",
        "\n",
        "# Evaluate on test set\n",
        "test_loss, test_accuracy = model.evaluate(test_generator)\n",
        "print(f'Test Loss: {test_loss}, Test Accuracy: {test_accuracy}')"
      ]
    },
    {
      "cell_type": "code",
      "execution_count": null,
      "metadata": {
        "colab": {
          "base_uri": "https://localhost:8080/"
        },
        "id": "rbX6WceCS30G",
        "outputId": "07b15133-cf64-4966-bc16-c1cfc6493e17"
      },
      "outputs": [
        {
          "name": "stdout",
          "output_type": "stream",
          "text": [
            "317/317 [==============================] - 15s 47ms/step - loss: 0.1176 - accuracy: 0.9653\n",
            "Test Loss: 0.11757364869117737, Test Accuracy: 0.965299665927887\n"
          ]
        }
      ],
      "source": [
        "test_loss, test_accuracy = model.evaluate(val_generator)\n",
        "print(f'Test Loss: {test_loss}, Test Accuracy: {test_accuracy}')"
      ]
    },
    {
      "cell_type": "markdown",
      "metadata": {},
      "source": [
        "F1 SCORE CALCULATION"
      ]
    },
    {
      "cell_type": "code",
      "execution_count": null,
      "metadata": {
        "colab": {
          "base_uri": "https://localhost:8080/"
        },
        "id": "D6F1ldvjSfm5",
        "outputId": "250b2d1b-aa2d-484e-a322-ad5b3fc7a17d"
      },
      "outputs": [
        {
          "name": "stdout",
          "output_type": "stream",
          "text": [
            "1356/1356 [==============================] - 277s 205ms/step\n"
          ]
        }
      ],
      "source": [
        "predictions = model.predict(test_generator)\n",
        "labels = test_generator.labels"
      ]
    },
    {
      "cell_type": "code",
      "execution_count": null,
      "metadata": {
        "colab": {
          "base_uri": "https://localhost:8080/"
        },
        "id": "ZX1BUKP4V35c",
        "outputId": "5b5957f2-d0b3-4f1a-e670-423a7663091e"
      },
      "outputs": [
        {
          "name": "stdout",
          "output_type": "stream",
          "text": [
            "[1 0 1 ... 0 0 0]\n",
            "[1 0 1 ... 0 0 0]\n"
          ]
        }
      ],
      "source": [
        "print(np.argmax(predictions,axis =1))\n",
        "print(np.array(labels))"
      ]
    },
    {
      "cell_type": "code",
      "execution_count": null,
      "metadata": {
        "colab": {
          "base_uri": "https://localhost:8080/"
        },
        "id": "6RUb3vVBWUIF",
        "outputId": "b719f2de-025c-4b46-e4c7-141d70430e72"
      },
      "outputs": [
        {
          "name": "stdout",
          "output_type": "stream",
          "text": [
            "Precision: 0.9411158731365409\n",
            "Recall: 0.9402654867256637\n"
          ]
        }
      ],
      "source": [
        "from sklearn.metrics import precision_score, recall_score\n",
        "\n",
        "precision = precision_score(labels, np.argmax(predictions,axis =1) , average='weighted')\n",
        "recall = recall_score(labels, np.argmax(predictions,axis =1), average='weighted')\n",
        "\n",
        "print(f'Precision: {precision}')\n",
        "print(f'Recall: {recall}')"
      ]
    },
    {
      "cell_type": "code",
      "execution_count": null,
      "metadata": {
        "colab": {
          "base_uri": "https://localhost:8080/"
        },
        "id": "eTIZcW1aWooV",
        "outputId": "b3a0add2-a3bc-4c43-b3f4-67cd3557b6b2"
      },
      "outputs": [
        {
          "name": "stdout",
          "output_type": "stream",
          "text": [
            "F1 score : \n",
            "0.9406904877433132\n"
          ]
        }
      ],
      "source": [
        "print(\"F1 score : \")\n",
        "print(2*precision*recall/(precision+recall));"
      ]
    },
    {
      "cell_type": "code",
      "execution_count": null,
      "metadata": {
        "colab": {
          "base_uri": "https://localhost:8080/"
        },
        "id": "Op3nJ7S3blRH",
        "outputId": "21cad56e-98bd-4d78-c43b-9b6a068969e2"
      },
      "outputs": [
        {
          "name": "stderr",
          "output_type": "stream",
          "text": [
            "/usr/local/lib/python3.10/dist-packages/keras/src/engine/training.py:3079: UserWarning: You are saving your model as an HDF5 file via `model.save()`. This file format is considered legacy. We recommend using instead the native Keras format, e.g. `model.save('my_model.keras')`.\n",
            "  saving_api.save_model(\n"
          ]
        }
      ],
      "source": [
        "model.save(\"model.h5\")"
      ]
    },
    {
      "cell_type": "markdown",
      "metadata": {
        "id": "_owjiFWY8xZd"
      },
      "source": [
        "USER TESTING"
      ]
    },
    {
      "cell_type": "code",
      "execution_count": null,
      "metadata": {
        "colab": {
          "base_uri": "https://localhost:8080/",
          "height": 899
        },
        "id": "tbjo0O6rrzE8",
        "outputId": "502432a5-dcfd-40e8-fd42-7ab40eb7562d"
      },
      "outputs": [],
      "source": [
        "import tensorflow as tf\n",
        "from tensorflow.keras.models import load_model\n",
        "from tensorflow.keras.preprocessing.image import ImageDataGenerator\n",
        "from tensorflow.keras.preprocessing.image import img_to_array, load_img\n",
        "from PIL import Image\n",
        "import cv2\n",
        "import matplotlib.pyplot as plt\n",
        "import matplotlib.image as mpimg\n",
        "import numpy as np\n",
        "\n",
        "def displayimg(path):\n",
        "  img = mpimg.imread(path)\n",
        "  plt.imshow(img)\n",
        "  plt.axis('off')\n",
        "  plt.show()\n",
        "def process_after_save(folderpath: str,imgname: str):\n",
        "  img = Image.open(folderpath+imgname)\n",
        "  img.thumbnail((300,300))\n",
        "  img.save(folderpath+imgname)\n",
        "  m,n = img.size\n",
        "  target_size = (300, 300)\n",
        "  if (m!=300)or(n!=300):\n",
        "    if m>n:\n",
        "      target_size = (m,m)\n",
        "    else:\n",
        "      target_size = (n,n)\n",
        "  else:\n",
        "    return;\n",
        "  image = cv2.imread(folderpath+imgname)\n",
        "  vertical_padding = (target_size[0] - image.shape[0]) // 2\n",
        "  horizontal_padding = (target_size[1] - image.shape[1]) // 2\n",
        "\n",
        "  padded_image = cv2.copyMakeBorder(image, vertical_padding, vertical_padding, horizontal_padding, horizontal_padding, cv2.BORDER_CONSTANT)\n",
        "  cv2.imwrite(folderpath+imgname,padded_image)\n",
        "\n",
        "\n",
        "def process_before_model(image_path):\n",
        "    img = load_img(image_path, target_size=(300, 300), color_mode='grayscale')\n",
        "    img_array = img_to_array(img)\n",
        "    img_array /= 255.0  # Normalize pixel values to between 0 and 1\n",
        "    return img_array\n",
        "\n",
        "\n",
        "path = \"s.png\"\n",
        "displayimg(path)\n",
        "img=load_img(path)\n",
        "arry = img_to_array(img)\n",
        "print(arry.shape)\n",
        "\n",
        "process_after_save(\"\",\"Not Cancer  (1008).jpg\")\n",
        "displayimg(path)\n",
        "img=load_img(path)\n",
        "print(img_to_array(img).shape)\n",
        "\n",
        "finarr = process_before_model(path)\n",
        "\n",
        "model2 = load_model(\"modfinaltt.h5\")\n",
        "\n",
        "print(finarr.shape)\n",
        "finarr = np.expand_dims(finarr, axis=0)\n",
        "val = model2.predict(finarr)\n",
        "print(val)\n",
        "for x in np.argmax(val,axis=1):\n",
        "  if(x==0):\n",
        "    print(\"tumor\")\n",
        "  else:\n",
        "    print(\"no tumor\")\n",
        "\n"
      ]
    }
  ],
  "metadata": {
    "colab": {
      "provenance": []
    },
    "kernelspec": {
      "display_name": "Python 3",
      "name": "python3"
    },
    "language_info": {
      "codemirror_mode": {
        "name": "ipython",
        "version": 3
      },
      "file_extension": ".py",
      "mimetype": "text/x-python",
      "name": "python",
      "nbconvert_exporter": "python",
      "pygments_lexer": "ipython3",
      "version": "3.9.1"
    }
  },
  "nbformat": 4,
  "nbformat_minor": 0
}
